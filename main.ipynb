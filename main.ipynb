{
 "cells": [
  {
   "cell_type": "code",
   "execution_count": 2,
   "metadata": {
    "collapsed": true
   },
   "outputs": [],
   "source": [
    "import pandas as pd\n",
    "import numpy as np"
   ]
  },
  {
   "cell_type": "code",
   "execution_count": 7,
   "outputs": [],
   "source": [
    "df = pd.read_excel(\"СТЕ.xlsx\")"
   ],
   "metadata": {
    "collapsed": false,
    "pycharm": {
     "name": "#%%\n"
    }
   }
  },
  {
   "cell_type": "code",
   "execution_count": 6,
   "outputs": [],
   "source": [
    "contract_df = pd.read_excel(\"Контракты.xlsx\")"
   ],
   "metadata": {
    "collapsed": false,
    "pycharm": {
     "name": "#%%\n"
    }
   }
  },
  {
   "cell_type": "code",
   "execution_count": 8,
   "outputs": [
    {
     "data": {
      "text/plain": "          ID СТЕ                                       Название СТЕ  \\\n0        1153097                мяч футбольный MIKASA REGATEADOR5-G   \n1        1153130             мяч волейбольный Gala Pro-Line 10 FIVB   \n2        1153163                мяч волейбольный Mikasa MVA380K-OBL   \n3        1153174            мяч волейбольный Wilson Super Soft Play   \n4        1159300  Gutrend комплект расходных материалов для FUN ...   \n...          ...                                                ...   \n356570  35228990         Шина 23x10.50-12 107A8 Starco AS LOADER TL   \n356571  35229086  Кнопка включения рабочего освещения для минипо...   \n356572  35231655  Обои флизелиновые под покраску NC Antivandal, ...   \n356573  35231695  Мусорное ведро Kimberly-Clark Aquarius белое п...   \n356574  35231999                             ВЕСЫ CAS DB-II 150 (Е)   \n\n                                                Категория           Код КПГЗ  \\\n0                                         Мячи футбольные     01.08.01.13.01   \n1                                      Мячи волейбольные   01.08.01.14.03.01   \n2                                      Мячи волейбольные   01.08.01.14.03.01   \n3                                      Мячи волейбольные   01.08.01.14.03.01   \n4       Расходные материалы, комплектующие для прочего...        01.20.10.99   \n...                                                   ...                ...   \n356570  Шины для грузовых автомобилей и спецтехники, п...  01.09.08.10.05.02   \n356571                             Запчасти к погрузчикам        01.09.08.03   \n356572                                               Обои     01.11.03.11.08   \n356573  Контейнеры и другие емкости для мусора пластма...     01.20.03.03.06   \n356574                                               Весы  01.20.99.01.05.02   \n\n                                           Характеристики  \n0       [{\"Name\":\"Модель\",\"Id\":283795036,\"Value\":\"REGA...  \n1       [{\"Name\":\"Марка\",\"Id\":284249992,\"Value\":\"Gala\"...  \n2       [{\"Name\":\"Марка\",\"Id\":284249802,\"Value\":\"MIKAS...  \n3       [{\"Name\":\"Марка\",\"Id\":284246959,\"Value\":\"WILSO...  \n4       [{\"Name\":\"Тип\",\"Id\":284280400,\"Value\":\"Расходн...  \n...                                                   ...  \n356570  [{\"Name\":\"Бескамерные\",\"Id\":369460372,\"Value\":...  \n356571  [{\"Name\":\"Артикул запчасти\",\"Id\":369463362,\"Va...  \n356572  [{\"Name\":\"Описание\",\"Id\":369399594,\"Value\":\"со...  \n356573  [{\"Name\":\"Вид емкости\",\"Id\":369380812,\"Value\":...  \n356574  [{\"Name\":\"Класс точности\",\"Id\":369436663,\"Valu...  \n\n[356575 rows x 5 columns]",
      "text/html": "<div>\n<style scoped>\n    .dataframe tbody tr th:only-of-type {\n        vertical-align: middle;\n    }\n\n    .dataframe tbody tr th {\n        vertical-align: top;\n    }\n\n    .dataframe thead th {\n        text-align: right;\n    }\n</style>\n<table border=\"1\" class=\"dataframe\">\n  <thead>\n    <tr style=\"text-align: right;\">\n      <th></th>\n      <th>ID СТЕ</th>\n      <th>Название СТЕ</th>\n      <th>Категория</th>\n      <th>Код КПГЗ</th>\n      <th>Характеристики</th>\n    </tr>\n  </thead>\n  <tbody>\n    <tr>\n      <th>0</th>\n      <td>1153097</td>\n      <td>мяч футбольный MIKASA REGATEADOR5-G</td>\n      <td>Мячи футбольные</td>\n      <td>01.08.01.13.01</td>\n      <td>[{\"Name\":\"Модель\",\"Id\":283795036,\"Value\":\"REGA...</td>\n    </tr>\n    <tr>\n      <th>1</th>\n      <td>1153130</td>\n      <td>мяч волейбольный Gala Pro-Line 10 FIVB</td>\n      <td>Мячи волейбольные</td>\n      <td>01.08.01.14.03.01</td>\n      <td>[{\"Name\":\"Марка\",\"Id\":284249992,\"Value\":\"Gala\"...</td>\n    </tr>\n    <tr>\n      <th>2</th>\n      <td>1153163</td>\n      <td>мяч волейбольный Mikasa MVA380K-OBL</td>\n      <td>Мячи волейбольные</td>\n      <td>01.08.01.14.03.01</td>\n      <td>[{\"Name\":\"Марка\",\"Id\":284249802,\"Value\":\"MIKAS...</td>\n    </tr>\n    <tr>\n      <th>3</th>\n      <td>1153174</td>\n      <td>мяч волейбольный Wilson Super Soft Play</td>\n      <td>Мячи волейбольные</td>\n      <td>01.08.01.14.03.01</td>\n      <td>[{\"Name\":\"Марка\",\"Id\":284246959,\"Value\":\"WILSO...</td>\n    </tr>\n    <tr>\n      <th>4</th>\n      <td>1159300</td>\n      <td>Gutrend комплект расходных материалов для FUN ...</td>\n      <td>Расходные материалы, комплектующие для прочего...</td>\n      <td>01.20.10.99</td>\n      <td>[{\"Name\":\"Тип\",\"Id\":284280400,\"Value\":\"Расходн...</td>\n    </tr>\n    <tr>\n      <th>...</th>\n      <td>...</td>\n      <td>...</td>\n      <td>...</td>\n      <td>...</td>\n      <td>...</td>\n    </tr>\n    <tr>\n      <th>356570</th>\n      <td>35228990</td>\n      <td>Шина 23x10.50-12 107A8 Starco AS LOADER TL</td>\n      <td>Шины для грузовых автомобилей и спецтехники, п...</td>\n      <td>01.09.08.10.05.02</td>\n      <td>[{\"Name\":\"Бескамерные\",\"Id\":369460372,\"Value\":...</td>\n    </tr>\n    <tr>\n      <th>356571</th>\n      <td>35229086</td>\n      <td>Кнопка включения рабочего освещения для минипо...</td>\n      <td>Запчасти к погрузчикам</td>\n      <td>01.09.08.03</td>\n      <td>[{\"Name\":\"Артикул запчасти\",\"Id\":369463362,\"Va...</td>\n    </tr>\n    <tr>\n      <th>356572</th>\n      <td>35231655</td>\n      <td>Обои флизелиновые под покраску NC Antivandal, ...</td>\n      <td>Обои</td>\n      <td>01.11.03.11.08</td>\n      <td>[{\"Name\":\"Описание\",\"Id\":369399594,\"Value\":\"со...</td>\n    </tr>\n    <tr>\n      <th>356573</th>\n      <td>35231695</td>\n      <td>Мусорное ведро Kimberly-Clark Aquarius белое п...</td>\n      <td>Контейнеры и другие емкости для мусора пластма...</td>\n      <td>01.20.03.03.06</td>\n      <td>[{\"Name\":\"Вид емкости\",\"Id\":369380812,\"Value\":...</td>\n    </tr>\n    <tr>\n      <th>356574</th>\n      <td>35231999</td>\n      <td>ВЕСЫ CAS DB-II 150 (Е)</td>\n      <td>Весы</td>\n      <td>01.20.99.01.05.02</td>\n      <td>[{\"Name\":\"Класс точности\",\"Id\":369436663,\"Valu...</td>\n    </tr>\n  </tbody>\n</table>\n<p>356575 rows × 5 columns</p>\n</div>"
     },
     "execution_count": 8,
     "metadata": {},
     "output_type": "execute_result"
    }
   ],
   "source": [
    "df"
   ],
   "metadata": {
    "collapsed": false,
    "pycharm": {
     "name": "#%%\n"
    }
   }
  },
  {
   "cell_type": "code",
   "execution_count": 9,
   "outputs": [
    {
     "data": {
      "text/plain": "        Номер контракта Дата публикации КС на ПП Дата заключения контракта  \\\n0           10/2019-СГЗ  2019-06-13 17:07:08.753                2019-06-18   \n1          642-МЗ-44/19  2019-06-13 10:46:31.197                2019-06-18   \n2                 74-19  2019-06-13 15:34:06.630                2019-06-18   \n3             И-1200/19  2019-06-11 15:07:29.147                2019-06-18   \n4          639-МЗ-44/19  2019-06-13 10:55:03.087                2019-06-18   \n...                 ...                      ...                       ...   \n414988   1536-17/40-Р3А  2017-07-06 11:36:06.000                2017-07-10   \n414989           145/17  2017-07-06 10:45:36.000                2017-07-10   \n414990  1536-17/39-Р14А  2017-07-05 19:44:02.000                2017-07-10   \n414991    1557 АПС 0717  2017-07-07 15:40:04.000                2017-07-10   \n414992         144-17оф  2017-07-04 00:32:34.000                2017-07-10   \n\n        Цена контракта  ИНН заказчика  КПП заказчика  \\\n0             21970.00     7709043455      770901001   \n1             85312.00     7719047184      771901001   \n2             26638.34     7727597777      772701001   \n3             82386.00     7714338609      771401001   \n4             28362.00     7719047184      771901001   \n...                ...            ...            ...   \n414988       367220.00     7727063221      773601001   \n414989        87020.00     7723169690      772301001   \n414990       312210.00     7727063221      773601001   \n414991        59740.00     7735093928      773501001   \n414992       168499.92     7731281046      773101001   \n\n                                   Наименование заказчика  ИНН поставщика  \\\n0       ГОСУДАРСТВЕННОЕ БЮДЖЕТНОЕ УЧРЕЖДЕНИЕ ДОПОЛНИТЕ...      5009062762   \n1       ГОСУДАРСТВЕННОЕ БЮДЖЕТНОЕ УЧРЕЖДЕНИЕ ЗДРАВООХР...      7725696613   \n2       ГОСУДАРСТВЕННОЕ БЮДЖЕТНОЕ УЧРЕЖДЕНИЕ ГОРОДА МО...      7724456672   \n3       ГОСУДАРСТВЕННОЕ КАЗЕННОЕ УЧРЕЖДЕНИЕ ГОРОДА МОС...    503224250310   \n4       ГОСУДАРСТВЕННОЕ БЮДЖЕТНОЕ УЧРЕЖДЕНИЕ ЗДРАВООХР...      7706771569   \n...                                                   ...             ...   \n414988  Государственное бюджетное общеобразовательное ...      9729011053   \n414989  Государственное бюджетное общеобразовательное ...      7722631833   \n414990  Государственное бюджетное общеобразовательное ...    502499264403   \n414991  Государственное бюджетное общеобразовательное ...      7735534442   \n414992  Государственное бюджетное профессиональное обр...      5018177008   \n\n        КПП поставщика                            Наименование поставщика  \\\n0          500901001.0                                      ООО \"ОФИСМАГ\"   \n1          772501001.0  ОБЩЕСТВО С ОГРАНИЧЕННОЙ ОТВЕТСТВЕННОСТЬЮ \"МОСНАБ\"   \n2          772401001.0                                  ООО \"Жизнь офиса\"   \n3                  NaN  Индивидуальный предприниматель Кручинина Екате...   \n4          772701001.0                                 ООО \"ПРИНСИПАЛ-БМ\"   \n...                ...                                                ...   \n414988     772901001.0                                  ООО «Фьюче Строй»   \n414989     772201001.0  Общество с ограниченной ответственностью \"Монт...   \n414990             NaN      Индивидуальный предприниматель Младин Василий   \n414991     773501001.0  Общество с ограниченной ответственностью \"Техн...   \n414992     501801001.0  ОБЩЕСТВО С ОГРАНИЧЕННОЙ ОТВЕТСТВЕННОСТЬЮ \"ОПТИ...   \n\n                                                      СТЕ  \n0       [{\"Id\":1226040,\"Quantity\":100.00000,\"Amount\":2...  \n1       [{\"Id\":null,\"Quantity\":4.00000,\"Amount\":42656....  \n2       [{\"Id\":null,\"Quantity\":1.00000,\"Amount\":26638....  \n3       [{\"Id\":1405814,\"Quantity\":120.00000,\"Amount\":8...  \n4       [{\"Id\":null,\"Quantity\":300.00000,\"Amount\":2836...  \n...                                                   ...  \n414988  [{\"Id\":null,\"Quantity\":1.00000,\"Amount\":367220...  \n414989  [{\"Id\":null,\"Quantity\":2.00000,\"Amount\":87020....  \n414990  [{\"Id\":null,\"Quantity\":1.00000,\"Amount\":312210...  \n414991  [{\"Id\":null,\"Quantity\":1.00000,\"Amount\":59740....  \n414992  [{\"Id\":null,\"Quantity\":4.00000,\"Amount\":18115....  \n\n[414993 rows x 11 columns]",
      "text/html": "<div>\n<style scoped>\n    .dataframe tbody tr th:only-of-type {\n        vertical-align: middle;\n    }\n\n    .dataframe tbody tr th {\n        vertical-align: top;\n    }\n\n    .dataframe thead th {\n        text-align: right;\n    }\n</style>\n<table border=\"1\" class=\"dataframe\">\n  <thead>\n    <tr style=\"text-align: right;\">\n      <th></th>\n      <th>Номер контракта</th>\n      <th>Дата публикации КС на ПП</th>\n      <th>Дата заключения контракта</th>\n      <th>Цена контракта</th>\n      <th>ИНН заказчика</th>\n      <th>КПП заказчика</th>\n      <th>Наименование заказчика</th>\n      <th>ИНН поставщика</th>\n      <th>КПП поставщика</th>\n      <th>Наименование поставщика</th>\n      <th>СТЕ</th>\n    </tr>\n  </thead>\n  <tbody>\n    <tr>\n      <th>0</th>\n      <td>10/2019-СГЗ</td>\n      <td>2019-06-13 17:07:08.753</td>\n      <td>2019-06-18</td>\n      <td>21970.00</td>\n      <td>7709043455</td>\n      <td>770901001</td>\n      <td>ГОСУДАРСТВЕННОЕ БЮДЖЕТНОЕ УЧРЕЖДЕНИЕ ДОПОЛНИТЕ...</td>\n      <td>5009062762</td>\n      <td>500901001.0</td>\n      <td>ООО \"ОФИСМАГ\"</td>\n      <td>[{\"Id\":1226040,\"Quantity\":100.00000,\"Amount\":2...</td>\n    </tr>\n    <tr>\n      <th>1</th>\n      <td>642-МЗ-44/19</td>\n      <td>2019-06-13 10:46:31.197</td>\n      <td>2019-06-18</td>\n      <td>85312.00</td>\n      <td>7719047184</td>\n      <td>771901001</td>\n      <td>ГОСУДАРСТВЕННОЕ БЮДЖЕТНОЕ УЧРЕЖДЕНИЕ ЗДРАВООХР...</td>\n      <td>7725696613</td>\n      <td>772501001.0</td>\n      <td>ОБЩЕСТВО С ОГРАНИЧЕННОЙ ОТВЕТСТВЕННОСТЬЮ \"МОСНАБ\"</td>\n      <td>[{\"Id\":null,\"Quantity\":4.00000,\"Amount\":42656....</td>\n    </tr>\n    <tr>\n      <th>2</th>\n      <td>74-19</td>\n      <td>2019-06-13 15:34:06.630</td>\n      <td>2019-06-18</td>\n      <td>26638.34</td>\n      <td>7727597777</td>\n      <td>772701001</td>\n      <td>ГОСУДАРСТВЕННОЕ БЮДЖЕТНОЕ УЧРЕЖДЕНИЕ ГОРОДА МО...</td>\n      <td>7724456672</td>\n      <td>772401001.0</td>\n      <td>ООО \"Жизнь офиса\"</td>\n      <td>[{\"Id\":null,\"Quantity\":1.00000,\"Amount\":26638....</td>\n    </tr>\n    <tr>\n      <th>3</th>\n      <td>И-1200/19</td>\n      <td>2019-06-11 15:07:29.147</td>\n      <td>2019-06-18</td>\n      <td>82386.00</td>\n      <td>7714338609</td>\n      <td>771401001</td>\n      <td>ГОСУДАРСТВЕННОЕ КАЗЕННОЕ УЧРЕЖДЕНИЕ ГОРОДА МОС...</td>\n      <td>503224250310</td>\n      <td>NaN</td>\n      <td>Индивидуальный предприниматель Кручинина Екате...</td>\n      <td>[{\"Id\":1405814,\"Quantity\":120.00000,\"Amount\":8...</td>\n    </tr>\n    <tr>\n      <th>4</th>\n      <td>639-МЗ-44/19</td>\n      <td>2019-06-13 10:55:03.087</td>\n      <td>2019-06-18</td>\n      <td>28362.00</td>\n      <td>7719047184</td>\n      <td>771901001</td>\n      <td>ГОСУДАРСТВЕННОЕ БЮДЖЕТНОЕ УЧРЕЖДЕНИЕ ЗДРАВООХР...</td>\n      <td>7706771569</td>\n      <td>772701001.0</td>\n      <td>ООО \"ПРИНСИПАЛ-БМ\"</td>\n      <td>[{\"Id\":null,\"Quantity\":300.00000,\"Amount\":2836...</td>\n    </tr>\n    <tr>\n      <th>...</th>\n      <td>...</td>\n      <td>...</td>\n      <td>...</td>\n      <td>...</td>\n      <td>...</td>\n      <td>...</td>\n      <td>...</td>\n      <td>...</td>\n      <td>...</td>\n      <td>...</td>\n      <td>...</td>\n    </tr>\n    <tr>\n      <th>414988</th>\n      <td>1536-17/40-Р3А</td>\n      <td>2017-07-06 11:36:06.000</td>\n      <td>2017-07-10</td>\n      <td>367220.00</td>\n      <td>7727063221</td>\n      <td>773601001</td>\n      <td>Государственное бюджетное общеобразовательное ...</td>\n      <td>9729011053</td>\n      <td>772901001.0</td>\n      <td>ООО «Фьюче Строй»</td>\n      <td>[{\"Id\":null,\"Quantity\":1.00000,\"Amount\":367220...</td>\n    </tr>\n    <tr>\n      <th>414989</th>\n      <td>145/17</td>\n      <td>2017-07-06 10:45:36.000</td>\n      <td>2017-07-10</td>\n      <td>87020.00</td>\n      <td>7723169690</td>\n      <td>772301001</td>\n      <td>Государственное бюджетное общеобразовательное ...</td>\n      <td>7722631833</td>\n      <td>772201001.0</td>\n      <td>Общество с ограниченной ответственностью \"Монт...</td>\n      <td>[{\"Id\":null,\"Quantity\":2.00000,\"Amount\":87020....</td>\n    </tr>\n    <tr>\n      <th>414990</th>\n      <td>1536-17/39-Р14А</td>\n      <td>2017-07-05 19:44:02.000</td>\n      <td>2017-07-10</td>\n      <td>312210.00</td>\n      <td>7727063221</td>\n      <td>773601001</td>\n      <td>Государственное бюджетное общеобразовательное ...</td>\n      <td>502499264403</td>\n      <td>NaN</td>\n      <td>Индивидуальный предприниматель Младин Василий</td>\n      <td>[{\"Id\":null,\"Quantity\":1.00000,\"Amount\":312210...</td>\n    </tr>\n    <tr>\n      <th>414991</th>\n      <td>1557 АПС 0717</td>\n      <td>2017-07-07 15:40:04.000</td>\n      <td>2017-07-10</td>\n      <td>59740.00</td>\n      <td>7735093928</td>\n      <td>773501001</td>\n      <td>Государственное бюджетное общеобразовательное ...</td>\n      <td>7735534442</td>\n      <td>773501001.0</td>\n      <td>Общество с ограниченной ответственностью \"Техн...</td>\n      <td>[{\"Id\":null,\"Quantity\":1.00000,\"Amount\":59740....</td>\n    </tr>\n    <tr>\n      <th>414992</th>\n      <td>144-17оф</td>\n      <td>2017-07-04 00:32:34.000</td>\n      <td>2017-07-10</td>\n      <td>168499.92</td>\n      <td>7731281046</td>\n      <td>773101001</td>\n      <td>Государственное бюджетное профессиональное обр...</td>\n      <td>5018177008</td>\n      <td>501801001.0</td>\n      <td>ОБЩЕСТВО С ОГРАНИЧЕННОЙ ОТВЕТСТВЕННОСТЬЮ \"ОПТИ...</td>\n      <td>[{\"Id\":null,\"Quantity\":4.00000,\"Amount\":18115....</td>\n    </tr>\n  </tbody>\n</table>\n<p>414993 rows × 11 columns</p>\n</div>"
     },
     "execution_count": 9,
     "metadata": {},
     "output_type": "execute_result"
    }
   ],
   "source": [
    "contract_df"
   ],
   "metadata": {
    "collapsed": false,
    "pycharm": {
     "name": "#%%\n"
    }
   }
  },
  {
   "cell_type": "code",
   "execution_count": 14,
   "outputs": [
    {
     "data": {
      "text/plain": "'[{\"Name\":\"Модель\",\"Id\":283795036,\"Value\":\"REGATEADOR5-R\"},{\"Name\":\"Материал\",\"Id\":283795037,\"Value\":\"Синт\"},{\"Name\":\"Цвет\",\"Id\":283795038,\"Value\":\"белый\"},{\"Name\":\"Уровень\",\"Id\":283795040,\"Value\":\"любительские\"},{\"Name\":\"Марка\",\"Id\":284249658,\"Value\":\"MIKASA\"},{\"Name\":\"Размер\",\"Id\":283795039,\"Value\":\"5\",\"Unit\":\"усл. ед\"}]'"
     },
     "execution_count": 14,
     "metadata": {},
     "output_type": "execute_result"
    }
   ],
   "source": [
    "df.loc[0][-1]"
   ],
   "metadata": {
    "collapsed": false,
    "pycharm": {
     "name": "#%%\n"
    }
   }
  },
  {
   "cell_type": "code",
   "execution_count": 15,
   "outputs": [
    {
     "data": {
      "text/plain": "(356575, 5)"
     },
     "execution_count": 15,
     "metadata": {},
     "output_type": "execute_result"
    }
   ],
   "source": [
    "df.shape"
   ],
   "metadata": {
    "collapsed": false,
    "pycharm": {
     "name": "#%%\n"
    }
   }
  },
  {
   "cell_type": "code",
   "execution_count": 16,
   "outputs": [
    {
     "data": {
      "text/plain": "(414993, 11)"
     },
     "execution_count": 16,
     "metadata": {},
     "output_type": "execute_result"
    }
   ],
   "source": [
    "contract_df.shape"
   ],
   "metadata": {
    "collapsed": false,
    "pycharm": {
     "name": "#%%\n"
    }
   }
  },
  {
   "cell_type": "code",
   "execution_count": 17,
   "outputs": [
    {
     "name": "stdout",
     "output_type": "stream",
     "text": [
      "<class 'pandas.core.frame.DataFrame'>\n",
      "RangeIndex: 356575 entries, 0 to 356574\n",
      "Data columns (total 5 columns):\n",
      " #   Column          Non-Null Count   Dtype \n",
      "---  ------          --------------   ----- \n",
      " 0   ID СТЕ          356575 non-null  int64 \n",
      " 1   Название СТЕ    356575 non-null  object\n",
      " 2   Категория       356575 non-null  object\n",
      " 3   Код КПГЗ        356296 non-null  object\n",
      " 4   Характеристики  355769 non-null  object\n",
      "dtypes: int64(1), object(4)\n",
      "memory usage: 13.6+ MB\n"
     ]
    }
   ],
   "source": [
    "df.info()"
   ],
   "metadata": {
    "collapsed": false,
    "pycharm": {
     "name": "#%%\n"
    }
   }
  },
  {
   "cell_type": "code",
   "execution_count": 18,
   "outputs": [
    {
     "name": "stdout",
     "output_type": "stream",
     "text": [
      "<class 'pandas.core.frame.DataFrame'>\n",
      "RangeIndex: 414993 entries, 0 to 414992\n",
      "Data columns (total 11 columns):\n",
      " #   Column                     Non-Null Count   Dtype         \n",
      "---  ------                     --------------   -----         \n",
      " 0   Номер контракта            414990 non-null  object        \n",
      " 1   Дата публикации КС на ПП   414992 non-null  datetime64[ns]\n",
      " 2   Дата заключения контракта  414982 non-null  datetime64[ns]\n",
      " 3   Цена контракта             414993 non-null  float64       \n",
      " 4   ИНН заказчика              414993 non-null  int64         \n",
      " 5   КПП заказчика              414993 non-null  int64         \n",
      " 6   Наименование заказчика     414993 non-null  object        \n",
      " 7   ИНН поставщика             414993 non-null  int64         \n",
      " 8   КПП поставщика             289520 non-null  float64       \n",
      " 9   Наименование поставщика    414991 non-null  object        \n",
      " 10  СТЕ                        414993 non-null  object        \n",
      "dtypes: datetime64[ns](2), float64(2), int64(3), object(4)\n",
      "memory usage: 34.8+ MB\n"
     ]
    }
   ],
   "source": [
    "contract_df.info()"
   ],
   "metadata": {
    "collapsed": false,
    "pycharm": {
     "name": "#%%\n"
    }
   }
  },
  {
   "cell_type": "code",
   "execution_count": 19,
   "outputs": [],
   "source": [
    "def missing_value(df):\n",
    "    number = df.isnull().sum().sort_values(ascending=False)\n",
    "    number = number[number > 0]\n",
    "    percentage = df.isnull().sum() *100 / df.shape[0]\n",
    "    percentage = percentage[percentage > 0].sort_values(ascending=False)\n",
    "    return  pd.concat([number,percentage],keys=[\"Total\",\"Percentage\"],axis=1)"
   ],
   "metadata": {
    "collapsed": false,
    "pycharm": {
     "name": "#%%\n"
    }
   }
  },
  {
   "cell_type": "code",
   "execution_count": 20,
   "outputs": [
    {
     "data": {
      "text/plain": "                Total  Percentage\nХарактеристики    806    0.226039\nКод КПГЗ          279    0.078244",
      "text/html": "<div>\n<style scoped>\n    .dataframe tbody tr th:only-of-type {\n        vertical-align: middle;\n    }\n\n    .dataframe tbody tr th {\n        vertical-align: top;\n    }\n\n    .dataframe thead th {\n        text-align: right;\n    }\n</style>\n<table border=\"1\" class=\"dataframe\">\n  <thead>\n    <tr style=\"text-align: right;\">\n      <th></th>\n      <th>Total</th>\n      <th>Percentage</th>\n    </tr>\n  </thead>\n  <tbody>\n    <tr>\n      <th>Характеристики</th>\n      <td>806</td>\n      <td>0.226039</td>\n    </tr>\n    <tr>\n      <th>Код КПГЗ</th>\n      <td>279</td>\n      <td>0.078244</td>\n    </tr>\n  </tbody>\n</table>\n</div>"
     },
     "execution_count": 20,
     "metadata": {},
     "output_type": "execute_result"
    }
   ],
   "source": [
    "missing_value(df)"
   ],
   "metadata": {
    "collapsed": false,
    "pycharm": {
     "name": "#%%\n"
    }
   }
  },
  {
   "cell_type": "code",
   "execution_count": 21,
   "outputs": [
    {
     "data": {
      "text/plain": "                            Total  Percentage\nКПП поставщика             125473   30.234968\nДата заключения контракта      11    0.002651\nНомер контракта                 3    0.000723\nНаименование поставщика         2    0.000482\nДата публикации КС на ПП        1    0.000241",
      "text/html": "<div>\n<style scoped>\n    .dataframe tbody tr th:only-of-type {\n        vertical-align: middle;\n    }\n\n    .dataframe tbody tr th {\n        vertical-align: top;\n    }\n\n    .dataframe thead th {\n        text-align: right;\n    }\n</style>\n<table border=\"1\" class=\"dataframe\">\n  <thead>\n    <tr style=\"text-align: right;\">\n      <th></th>\n      <th>Total</th>\n      <th>Percentage</th>\n    </tr>\n  </thead>\n  <tbody>\n    <tr>\n      <th>КПП поставщика</th>\n      <td>125473</td>\n      <td>30.234968</td>\n    </tr>\n    <tr>\n      <th>Дата заключения контракта</th>\n      <td>11</td>\n      <td>0.002651</td>\n    </tr>\n    <tr>\n      <th>Номер контракта</th>\n      <td>3</td>\n      <td>0.000723</td>\n    </tr>\n    <tr>\n      <th>Наименование поставщика</th>\n      <td>2</td>\n      <td>0.000482</td>\n    </tr>\n    <tr>\n      <th>Дата публикации КС на ПП</th>\n      <td>1</td>\n      <td>0.000241</td>\n    </tr>\n  </tbody>\n</table>\n</div>"
     },
     "execution_count": 21,
     "metadata": {},
     "output_type": "execute_result"
    }
   ],
   "source": [
    "missing_value(contract_df)"
   ],
   "metadata": {
    "collapsed": false,
    "pycharm": {
     "name": "#%%\n"
    }
   }
  },
  {
   "cell_type": "code",
   "execution_count": 36,
   "outputs": [],
   "source": [
    "# Разделение категориальных признаков от обычных и выделения таргетов\n",
    "num_cols_df = df._get_numeric_data().columns\n",
    "cat_cols_df = list(set(df.columns) - set(num_cols_df))"
   ],
   "metadata": {
    "collapsed": false,
    "pycharm": {
     "name": "#%%\n"
    }
   }
  },
  {
   "cell_type": "code",
   "execution_count": 37,
   "outputs": [
    {
     "data": {
      "text/plain": "Index(['ID СТЕ'], dtype='object')"
     },
     "execution_count": 37,
     "metadata": {},
     "output_type": "execute_result"
    }
   ],
   "source": [
    "num_cols_df"
   ],
   "metadata": {
    "collapsed": false,
    "pycharm": {
     "name": "#%%\n"
    }
   }
  },
  {
   "cell_type": "code",
   "execution_count": 38,
   "outputs": [
    {
     "data": {
      "text/plain": "['Характеристики', 'Код КПГЗ', 'Название СТЕ', 'Категория']"
     },
     "execution_count": 38,
     "metadata": {},
     "output_type": "execute_result"
    }
   ],
   "source": [
    "cat_cols_df"
   ],
   "metadata": {
    "collapsed": false,
    "pycharm": {
     "name": "#%%\n"
    }
   }
  },
  {
   "cell_type": "code",
   "execution_count": null,
   "outputs": [],
   "source": [],
   "metadata": {
    "collapsed": false,
    "pycharm": {
     "name": "#%%\n"
    }
   }
  }
 ],
 "metadata": {
  "kernelspec": {
   "display_name": "Python 3",
   "language": "python",
   "name": "python3"
  },
  "language_info": {
   "codemirror_mode": {
    "name": "ipython",
    "version": 2
   },
   "file_extension": ".py",
   "mimetype": "text/x-python",
   "name": "python",
   "nbconvert_exporter": "python",
   "pygments_lexer": "ipython2",
   "version": "2.7.6"
  }
 },
 "nbformat": 4,
 "nbformat_minor": 0
}